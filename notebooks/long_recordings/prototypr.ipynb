{
 "cells": [
  {
   "cell_type": "markdown",
   "metadata": {},
   "source": [
    "# Prototype to analyze long recordings of fiber data. \n",
    "\n",
    "* 11/25/2024 setup"
   ]
  },
  {
   "cell_type": "code",
   "execution_count": 1,
   "metadata": {},
   "outputs": [],
   "source": [
    "from datetime import timedelta\n",
    "from os.path import join\n",
    "import matplotlib.pyplot as plt\n",
    "\n",
    "\n",
    "import src.fiberphotometry as fp"
   ]
  },
  {
   "cell_type": "code",
   "execution_count": 2,
   "metadata": {},
   "outputs": [],
   "source": [
    "def calculate_recording_start_times(recording_start_datetime, onsets):\n",
    "    \"\"\"\n",
    "    Calculate a list of cumulative recording start times.\n",
    "\n",
    "    Parameters:\n",
    "    - recording_start_datetime: datetime.datetime\n",
    "        The start date and time as a datetime object.\n",
    "    - onsets: list or array-like\n",
    "        The list of onset times in seconds.\n",
    "\n",
    "    Returns:\n",
    "    - list of datetime objects representing the start times.\n",
    "    \"\"\"\n",
    "    # Initialize the `recording_start_times` list\n",
    "    recording_start_times = []\n",
    "\n",
    "    # Set the initial recording time\n",
    "    current_time = recording_start_datetime + timedelta(seconds=float(onsets[0]))\n",
    "    recording_start_times.append(current_time)\n",
    "\n",
    "    # Iterate over the remaining onsets to add cumulative times\n",
    "    for onset in onsets[1:]:\n",
    "        current_time += timedelta(seconds=float(onset))\n",
    "        recording_start_times.append(current_time)\n",
    "\n",
    "    return recording_start_times\n",
    "\n",
    "\n",
    "def format_datetime_for_filename(dt):\n",
    "    \"\"\"\n",
    "    Format a datetime object into a string suitable for use in a filename.\n",
    "\n",
    "    Parameters:\n",
    "    - dt: datetime.datetime\n",
    "        The datetime object to format.\n",
    "\n",
    "    Returns:\n",
    "    - str: A string formatted for use in a filename.\n",
    "    \"\"\"\n",
    "    return dt.strftime(\"%Y%m%d_%H%M%S\")\n"
   ]
  },
  {
   "cell_type": "code",
   "execution_count": 4,
   "metadata": {},
   "outputs": [],
   "source": [
    "data_path = \"E:/test/42_1-241030-092508/\"\n",
    "save_dir = \"analysis\"\n",
    "save_path = join(data_path, save_dir)"
   ]
  },
  {
   "cell_type": "code",
   "execution_count": 5,
   "metadata": {},
   "outputs": [
    {
     "data": {
      "text/plain": [
       "['Experiment: multiday2\\n',\n",
       " 'Subject: 42_1\\n',\n",
       " 'User: User\\n',\n",
       " 'Date: 10/30/2024\\n',\n",
       " 'Time: 9:25:11am\\n',\n",
       " '\\n',\n",
       " 'Object ID : RZ10x(1) - RZn Processor\\n',\n",
       " ' Rate     : 6103.5 Hz\\n',\n",
       " ' Store ID : Note\\n',\n",
       " '\\n',\n",
       " 'Object ID : FibPho1 - Fiber Photometry\\n',\n",
       " ' Store ID : 405A\\n',\n",
       " '  Format  : Float-32\\n',\n",
       " '  Scale   : Unity\\n',\n",
       " '  Rate    : 1017.3 Hz\\n',\n",
       " ' Store ID : 465A\\n',\n",
       " '  Format  : Float-32\\n',\n",
       " '  Scale   : Unity\\n',\n",
       " '  Rate    : 1017.3 Hz\\n',\n",
       " ' Store ID : Fi1d\\n',\n",
       " '  Format  : Float-32\\n',\n",
       " '  Scale   : Unity\\n',\n",
       " '  Rate    : 6103.5 Hz\\n',\n",
       " ' Store ID : Fi1i\\n',\n",
       " '  Mode    : Single scalar\\n',\n",
       " '  Format  : Float-32\\n',\n",
       " '  Scale   : Unity\\n',\n",
       " '  Pre Cap : 0.00 ms\\n',\n",
       " ' Store ID : Fi1r\\n',\n",
       " '  Format  : Float-32\\n',\n",
       " '  Scale   : Unity\\n',\n",
       " '  Rate    : 6103.5 Hz\\n',\n",
       " ' Store ID : TC1_\\n',\n",
       " '  Source  : Strobe input\\n',\n",
       " '  Invert  : No\\n',\n",
       " '  Offset  : Yes\\n',\n",
       " '  Count   : Yes\\n',\n",
       " ' Store ID : F1c1\\n',\n",
       " '  Format  : Float-32\\n',\n",
       " '  Scale   : Unity\\n',\n",
       " '  Rate    : 1017.3 Hz\\n',\n",
       " '\\n',\n",
       " '\\n',\n",
       " 'Flat Listing:\\n',\n",
       " 'StoreID  Gizmo/Hal      Description\\n',\n",
       " '405A     FibPho1        store|\\n',\n",
       " '465A     FibPho1        store|\\n',\n",
       " 'F1c1     FibPho1        store|\\n',\n",
       " 'Fi1d     FibPho1        store|\\n',\n",
       " 'Fi1i     FibPho1        store|\\n',\n",
       " 'Fi1r     FibPho1        store|\\n',\n",
       " 'Note     RZn(1)         Marking Notes file indexes,\\n',\n",
       " 'TC1_     FibPho1        epoc|\\n',\n",
       " '\\n']"
      ]
     },
     "execution_count": 5,
     "metadata": {},
     "output_type": "execute_result"
    }
   ],
   "source": [
    "with open(join(data_path, \"StoresListing.txt\"), \"r\") as file:\n",
    "    lines = file.readlines()\n",
    "lines"
   ]
  },
  {
   "cell_type": "code",
   "execution_count": 6,
   "metadata": {},
   "outputs": [
    {
     "name": "stdout",
     "output_type": "stream",
     "text": [
      "Found Synapse note file: E:/test/42_1-241030-092508/Notes.txt\n",
      "date changed to 10/31/2024\n",
      "\n",
      "date changed to 11/01/2024\n",
      "\n",
      "date changed to 11/02/2024\n",
      "\n",
      "date changed to 11/03/2024\n",
      "\n",
      "read from t=0s to t=345649.34s\n"
     ]
    }
   ],
   "source": [
    "recording_epocs = fp.ImportTDTData(tank_path=data_path, kwargs={\"evtype\": [\"epocs\"]})"
   ]
  },
  {
   "cell_type": "code",
   "execution_count": 18,
   "metadata": {},
   "outputs": [],
   "source": [
    "onsets = recording_epocs.data.epocs.TC1_.onset.astype(float)\n",
    "offsets = recording_epocs.data.epocs.TC1_.offset.astype(float)\n",
    "on_off_times = {\n",
    "    \"onsets\": onsets,\n",
    "    \"offsets\": offsets,\n",
    "}\n",
    "recording_start_date_time = recording_epocs.data.info.start_date\n",
    "onset_add_time = 10  # seconds to add onset time to get rid of the artifact\n",
    "recording_starts = calculate_recording_start_times(\n",
    "    recording_start_date_time, on_off_times[\"onsets\"]\n",
    ")"
   ]
  },
  {
   "cell_type": "code",
   "execution_count": 20,
   "metadata": {},
   "outputs": [
    {
     "data": {
      "text/plain": [
       "[datetime.datetime(2024, 10, 30, 9, 25, 33, 426910),\n",
       " datetime.datetime(2024, 10, 30, 10, 25, 57, 139596),\n",
       " datetime.datetime(2024, 10, 30, 12, 26, 21, 137978),\n",
       " datetime.datetime(2024, 10, 30, 15, 26, 45, 422056),\n",
       " datetime.datetime(2024, 10, 30, 19, 27, 9, 991830),\n",
       " datetime.datetime(2024, 10, 31, 0, 27, 34, 847300),\n",
       " datetime.datetime(2024, 10, 31, 6, 27, 59, 988466),\n",
       " datetime.datetime(2024, 10, 31, 13, 28, 25, 415328),\n",
       " datetime.datetime(2024, 10, 31, 21, 28, 51, 127886),\n",
       " datetime.datetime(2024, 11, 1, 6, 29, 17, 126140),\n",
       " datetime.datetime(2024, 11, 1, 16, 29, 43, 410090),\n",
       " datetime.datetime(2024, 11, 2, 3, 30, 9, 979736),\n",
       " datetime.datetime(2024, 11, 2, 15, 30, 36, 835078),\n",
       " datetime.datetime(2024, 11, 3, 4, 31, 3, 976116),\n",
       " datetime.datetime(2024, 11, 3, 18, 31, 31, 402850),\n",
       " datetime.datetime(2024, 11, 4, 9, 31, 59, 115280),\n",
       " datetime.datetime(2024, 11, 5, 1, 32, 27, 113406),\n",
       " datetime.datetime(2024, 11, 5, 18, 32, 55, 397228),\n",
       " datetime.datetime(2024, 11, 6, 12, 33, 23, 966746),\n",
       " datetime.datetime(2024, 11, 7, 7, 33, 52, 821960),\n",
       " datetime.datetime(2024, 11, 8, 3, 34, 21, 962870),\n",
       " datetime.datetime(2024, 11, 9, 0, 34, 51, 389476),\n",
       " datetime.datetime(2024, 11, 9, 22, 35, 21, 101778),\n",
       " datetime.datetime(2024, 11, 10, 21, 35, 51, 99776),\n",
       " datetime.datetime(2024, 11, 11, 21, 36, 21, 383470),\n",
       " datetime.datetime(2024, 11, 12, 22, 36, 51, 952860),\n",
       " datetime.datetime(2024, 11, 14, 0, 37, 22, 807946),\n",
       " datetime.datetime(2024, 11, 15, 3, 37, 53, 948728),\n",
       " datetime.datetime(2024, 11, 16, 7, 38, 25, 375206),\n",
       " datetime.datetime(2024, 11, 17, 12, 38, 57, 87380),\n",
       " datetime.datetime(2024, 11, 18, 18, 39, 29, 85250),\n",
       " datetime.datetime(2024, 11, 20, 1, 40, 1, 368816),\n",
       " datetime.datetime(2024, 11, 21, 9, 40, 33, 938078),\n",
       " datetime.datetime(2024, 11, 22, 18, 41, 6, 793036),\n",
       " datetime.datetime(2024, 11, 24, 4, 41, 39, 933690),\n",
       " datetime.datetime(2024, 11, 25, 15, 42, 13, 360040),\n",
       " datetime.datetime(2024, 11, 27, 3, 42, 47, 72086),\n",
       " datetime.datetime(2024, 11, 28, 16, 43, 21, 69828),\n",
       " datetime.datetime(2024, 11, 30, 6, 43, 55, 353266),\n",
       " datetime.datetime(2024, 12, 1, 21, 44, 29, 922400),\n",
       " datetime.datetime(2024, 12, 3, 13, 45, 4, 777230),\n",
       " datetime.datetime(2024, 12, 5, 6, 45, 39, 917756),\n",
       " datetime.datetime(2024, 12, 7, 0, 46, 15, 343978),\n",
       " datetime.datetime(2024, 12, 8, 19, 46, 51, 55896),\n",
       " datetime.datetime(2024, 12, 10, 15, 47, 27, 53510),\n",
       " datetime.datetime(2024, 12, 12, 12, 48, 3, 336820),\n",
       " datetime.datetime(2024, 12, 14, 10, 48, 39, 905826),\n",
       " datetime.datetime(2024, 12, 16, 9, 49, 16, 760528),\n",
       " datetime.datetime(2024, 12, 18, 9, 49, 53, 900926),\n",
       " datetime.datetime(2024, 12, 20, 10, 50, 31, 327020),\n",
       " datetime.datetime(2024, 12, 22, 12, 51, 9, 38810),\n",
       " datetime.datetime(2024, 12, 24, 15, 51, 47, 36296),\n",
       " datetime.datetime(2024, 12, 26, 19, 52, 25, 319478),\n",
       " datetime.datetime(2024, 12, 29, 0, 53, 3, 888356),\n",
       " datetime.datetime(2024, 12, 31, 6, 53, 42, 742930),\n",
       " datetime.datetime(2025, 1, 2, 13, 54, 21, 883200),\n",
       " datetime.datetime(2025, 1, 4, 21, 55, 1, 309166),\n",
       " datetime.datetime(2025, 1, 7, 6, 55, 41, 20828),\n",
       " datetime.datetime(2025, 1, 9, 16, 56, 21, 18186),\n",
       " datetime.datetime(2025, 1, 12, 3, 57, 1, 301240),\n",
       " datetime.datetime(2025, 1, 14, 15, 57, 41, 869990),\n",
       " datetime.datetime(2025, 1, 17, 4, 58, 22, 724436),\n",
       " datetime.datetime(2025, 1, 19, 18, 59, 3, 864578),\n",
       " datetime.datetime(2025, 1, 22, 9, 59, 45, 290416),\n",
       " datetime.datetime(2025, 1, 25, 2, 0, 27, 1950),\n",
       " datetime.datetime(2025, 1, 27, 19, 1, 8, 999180),\n",
       " datetime.datetime(2025, 1, 30, 13, 1, 51, 282106),\n",
       " datetime.datetime(2025, 2, 2, 8, 2, 33, 850728),\n",
       " datetime.datetime(2025, 2, 5, 4, 3, 16, 705046),\n",
       " datetime.datetime(2025, 2, 8, 1, 3, 59, 845060),\n",
       " datetime.datetime(2025, 2, 10, 23, 4, 43, 270770),\n",
       " datetime.datetime(2025, 2, 13, 22, 5, 26, 982176),\n",
       " datetime.datetime(2025, 2, 16, 22, 6, 10, 979278),\n",
       " datetime.datetime(2025, 2, 19, 23, 6, 55, 262076),\n",
       " datetime.datetime(2025, 2, 23, 1, 7, 39, 830570),\n",
       " datetime.datetime(2025, 2, 26, 4, 8, 24, 684760),\n",
       " datetime.datetime(2025, 3, 1, 8, 9, 9, 824646),\n",
       " datetime.datetime(2025, 3, 4, 13, 9, 55, 250228),\n",
       " datetime.datetime(2025, 3, 7, 19, 10, 40, 961506),\n",
       " datetime.datetime(2025, 3, 11, 2, 11, 26, 958480),\n",
       " datetime.datetime(2025, 3, 14, 10, 12, 13, 241150),\n",
       " datetime.datetime(2025, 3, 17, 19, 12, 59, 809516),\n",
       " datetime.datetime(2025, 3, 21, 5, 13, 46, 663578),\n",
       " datetime.datetime(2025, 3, 24, 16, 14, 33, 803336),\n",
       " datetime.datetime(2025, 3, 28, 4, 15, 21, 228790),\n",
       " datetime.datetime(2025, 3, 31, 17, 16, 8, 939940),\n",
       " datetime.datetime(2025, 4, 4, 7, 16, 56, 936786),\n",
       " datetime.datetime(2025, 4, 7, 22, 17, 45, 219328),\n",
       " datetime.datetime(2025, 4, 11, 14, 18, 33, 787566),\n",
       " datetime.datetime(2025, 4, 15, 7, 19, 22, 641500),\n",
       " datetime.datetime(2025, 4, 19, 1, 20, 11, 781130),\n",
       " datetime.datetime(2025, 4, 22, 20, 21, 1, 206456),\n",
       " datetime.datetime(2025, 4, 26, 16, 21, 50, 917478),\n",
       " datetime.datetime(2025, 4, 30, 13, 22, 40, 914196),\n",
       " datetime.datetime(2025, 5, 4, 11, 23, 31, 196610),\n",
       " datetime.datetime(2025, 5, 8, 10, 24, 21, 764720)]"
      ]
     },
     "execution_count": 20,
     "metadata": {},
     "output_type": "execute_result"
    }
   ],
   "source": [
    "recording_starts"
   ]
  },
  {
   "cell_type": "code",
   "execution_count": null,
   "metadata": {},
   "outputs": [
    {
     "data": {
      "text/plain": [
       "(7233.99838208, 7824.04599808)"
      ]
     },
     "execution_count": 9,
     "metadata": {},
     "output_type": "execute_result"
    }
   ],
   "source": [
    "t1 = on_off_times[\"onsets\"][2] + onset_add_time\n",
    "t2 = on_off_times[\"offsets\"][2]\n",
    "t1, t2"
   ]
  },
  {
   "cell_type": "code",
   "execution_count": 10,
   "metadata": {},
   "outputs": [
    {
     "name": "stdout",
     "output_type": "stream",
     "text": [
      "Found Synapse note file: E:/test/42_1-241030-092508/Notes.txt\n",
      "date changed to 10/31/2024\n",
      "\n",
      "date changed to 11/01/2024\n",
      "\n",
      "date changed to 11/02/2024\n",
      "\n",
      "date changed to 11/03/2024\n",
      "\n",
      "read from t=7234.0s to t=7824.05s\n"
     ]
    },
    {
     "name": "stderr",
     "output_type": "stream",
     "text": [
      "c:\\Users\\gt225\\anaconda3\\envs\\fiber-photometry-analysis\\lib\\site-packages\\tdt\\TDTbin2py.py:1596: RuntimeWarning: overflow encountered in scalar subtract\n",
      "  filter_ind[jj] = np.concatenate([-np.arange(nchan, 0, -1) + temp[0], filter_ind[jj]])\n",
      "c:\\Users\\gt225\\anaconda3\\envs\\fiber-photometry-analysis\\lib\\site-packages\\tdt\\TDTbin2py.py:2083: RuntimeWarning: overflow encountered in scalar subtract\n",
      "  minSample = ltSample - tdSample\n"
     ]
    }
   ],
   "source": [
    "data_segment = fp.ImportTDTData(\n",
    "    data_path,\n",
    "    kwargs={\n",
    "        \"t1\": t1,\n",
    "        \"t2\": t2,\n",
    "    },\n",
    ")"
   ]
  },
  {
   "cell_type": "code",
   "execution_count": 11,
   "metadata": {},
   "outputs": [
    {
     "data": {
      "text/plain": [
       "(600228,)"
      ]
     },
     "execution_count": 11,
     "metadata": {},
     "output_type": "execute_result"
    }
   ],
   "source": [
    "data_segment.data.streams._405A.data.shape\n"
   ]
  },
  {
   "cell_type": "code",
   "execution_count": 12,
   "metadata": {},
   "outputs": [
    {
     "data": {
      "image/png": "[encoded data removed]",
      "text/plain": [
       "<Figure size 640x480 with 1 Axes>"
      ]
     },
     "metadata": {},
     "output_type": "display_data"
    }
   ],
   "source": [
    "plt.plot(data_segment.data.streams._405A.data)\n",
    "plt.plot(data_segment.data.streams._465A.data)\n",
    "plt.legend([\"405 nm\", \"465 nm\"])\n",
    "plt.show()"
   ]
  },
  {
   "cell_type": "code",
   "execution_count": 13,
   "metadata": {},
   "outputs": [
    {
     "name": "stdout",
     "output_type": "stream",
     "text": [
      "Found Synapse note file: E:/test/42_1-241030-092508/Notes.txt\n",
      "date changed to 10/31/2024\n",
      "\n",
      "date changed to 11/01/2024\n",
      "\n",
      "date changed to 11/02/2024\n",
      "\n",
      "date changed to 11/03/2024\n",
      "\n",
      "read from t=7234.0s to t=7824.05s\n"
     ]
    }
   ],
   "source": [
    "dff = fp.FiberPhotometryAnalysis(\n",
    "    data_path,\n",
    "    kwargs={\n",
    "        \"t1\": t1,\n",
    "        \"t2\": t2,\n",
    "    },\n",
    ")"
   ]
  },
  {
   "cell_type": "code",
   "execution_count": 14,
   "metadata": {},
   "outputs": [],
   "source": [
    "trace = dff.calculate_deltaf_f()"
   ]
  },
  {
   "cell_type": "code",
   "execution_count": 15,
   "metadata": {},
   "outputs": [
    {
     "data": {
      "text/plain": [
       "(600228,)"
      ]
     },
     "execution_count": 15,
     "metadata": {},
     "output_type": "execute_result"
    }
   ],
   "source": [
    "trace.shape"
   ]
  },
  {
   "cell_type": "code",
   "execution_count": 16,
   "metadata": {},
   "outputs": [
    {
     "data": {
      "text/plain": [
       "[<matplotlib.lines.Line2D at 0x2940a618e50>]"
      ]
     },
     "execution_count": 16,
     "metadata": {},
     "output_type": "execute_result"
    },
    {
     "data": {
      "image/png": "[encoded data removed]",
      "text/plain": [
       "<Figure size 640x480 with 1 Axes>"
      ]
     },
     "metadata": {},
     "output_type": "display_data"
    }
   ],
   "source": [
    "plt.plot(trace)"
   ]
  },
  {
   "cell_type": "code",
   "execution_count": null,
   "metadata": {},
   "outputs": [],
   "source": []
  }
 ],
 "metadata": {
  "kernelspec": {
   "display_name": "fiber-photometry-analysis",
   "language": "python",
   "name": "python3"
  },
  "language_info": {
   "codemirror_mode": {
    "name": "ipython",
    "version": 3
   },
   "file_extension": ".py",
   "mimetype": "text/x-python",
   "name": "python",
   "nbconvert_exporter": "python",
   "pygments_lexer": "ipython3",
   "version": "3.10.12"
  }
 },
 "nbformat": 4,
 "nbformat_minor": 4
}
