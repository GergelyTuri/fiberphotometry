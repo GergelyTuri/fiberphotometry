{
 "cells": [
  {
   "cell_type": "code",
   "execution_count": 1,
   "metadata": {},
   "outputs": [],
   "source": [
    "import matplotlib.pyplot as plt\n",
    "import numpy as np\n",
    "import pandas as pd\n",
    "from tdt import read_block, read_sev, epoc_filter #download_demo_data"
   ]
  },
  {
   "cell_type": "code",
   "execution_count": 3,
   "metadata": {},
   "outputs": [],
   "source": [
    "%config Completer.use_jedi = False"
   ]
  },
  {
   "cell_type": "code",
   "execution_count": 2,
   "metadata": {},
   "outputs": [],
   "source": [
    "# this is already downloaded to /home/gergely/code/fiberPhotometry_YP/data\n",
    "# download_demo_data()"
   ]
  },
  {
   "cell_type": "code",
   "execution_count": 4,
   "metadata": {},
   "outputs": [
    {
     "name": "stdout",
     "output_type": "stream",
     "text": [
      "Found Synapse note file: /home/gergely/code/fiberPhotometry_YP/data/VTA4-190125-100559/Notes.txt\n",
      "read from t=0s to t=785.44s\n",
      "epocs\t[struct]\n",
      "snips\t[struct]\n",
      "streams\t[struct]\n",
      "scalars\t[struct]\n",
      "info\t[struct]\n",
      "time_ranges:\tarray([[ 0.],\n",
      "       [inf]])\n",
      "===============\n",
      "tankpath:\t'/home/gergely/code/fiberPhotometry_YP/data'\n",
      "blockname:\t'VTA4-190125-100559'\n",
      "start_date:\tdatetime.datetime(2019, 1, 25, 11, 6, 1, 999999)\n",
      "utc_start_time:\t'11:06:01'\n",
      "stop_date:\tdatetime.datetime(2019, 1, 25, 11, 19, 7, 441481)\n",
      "utc_stop_time:\t'11:19:07'\n",
      "duration:\tdatetime.timedelta(0, 785, 441482)\n",
      "stream_channel:\t0\n",
      "snip_channel:\t0\n",
      "experiment:\t'FastedSucrose1'\n",
      "subject:\t'VTA4'\n",
      "user:\t'ChrisMorrison'\n",
      "start:\t'10:06:02am 2019-01-25'\n",
      "stop:\t'10:19:08am 2019-01-25'\n"
     ]
    }
   ],
   "source": [
    "BLOCK_PATH = '/home/gergely/code/fiberPhotometry_YP/data/VTA4-190125-100559'\n",
    "data = read_block(BLOCK_PATH)\n",
    "print(data)\n",
    "print('===============')\n",
    "print(data.info)"
   ]
  },
  {
   "cell_type": "code",
   "execution_count": 5,
   "metadata": {},
   "outputs": [
    {
     "data": {
      "text/plain": [
       "dict_keys(['_480G', '_405G', 'Fi1r'])"
      ]
     },
     "execution_count": 5,
     "metadata": {},
     "output_type": "execute_result"
    }
   ],
   "source": [
    "data.streams.keys()"
   ]
  },
  {
   "cell_type": "code",
   "execution_count": 28,
   "metadata": {},
   "outputs": [
    {
     "data": {
      "text/plain": [
       "dict_keys(['Ler_', 'Note'])"
      ]
     },
     "execution_count": 28,
     "metadata": {},
     "output_type": "execute_result"
    }
   ],
   "source": [
    "data.epocs.keys()\n",
    "# from tdt import StructType\n",
    "# StructType?"
   ]
  },
  {
   "cell_type": "code",
   "execution_count": 42,
   "metadata": {},
   "outputs": [
    {
     "data": {
      "text/plain": [
       "dict_keys(['name', 'onset', 'offset', 'type', 'type_str', 'data', 'dform', 'size'])"
      ]
     },
     "execution_count": 42,
     "metadata": {},
     "output_type": "execute_result"
    }
   ],
   "source": [
    "data.epocs['Ler_'].keys()"
   ]
  },
  {
   "cell_type": "code",
   "execution_count": 43,
   "metadata": {},
   "outputs": [
    {
     "data": {
      "text/plain": [
       "769"
      ]
     },
     "execution_count": 43,
     "metadata": {},
     "output_type": "execute_result"
    }
   ],
   "source": [
    "len(data.epocs['Ler_']['onset'])"
   ]
  },
  {
   "cell_type": "code",
   "execution_count": 15,
   "metadata": {},
   "outputs": [
    {
     "name": "stdout",
     "output_type": "stream",
     "text": [
      "1017.2526245117188\n",
      "1017.2526245117188\n"
     ]
    }
   ],
   "source": [
    "print(data.streams._465N.fs)\n",
    "print(data.streams._405N.fs)"
   ]
  },
  {
   "cell_type": "code",
   "execution_count": 11,
   "metadata": {},
   "outputs": [
    {
     "data": {
      "text/html": [
       "<div>\n",
       "<style scoped>\n",
       "    .dataframe tbody tr th:only-of-type {\n",
       "        vertical-align: middle;\n",
       "    }\n",
       "\n",
       "    .dataframe tbody tr th {\n",
       "        vertical-align: top;\n",
       "    }\n",
       "\n",
       "    .dataframe thead th {\n",
       "        text-align: right;\n",
       "    }\n",
       "</style>\n",
       "<table border=\"1\" class=\"dataframe\">\n",
       "  <thead>\n",
       "    <tr style=\"text-align: right;\">\n",
       "      <th></th>\n",
       "      <th>405</th>\n",
       "      <th>465</th>\n",
       "    </tr>\n",
       "  </thead>\n",
       "  <tbody>\n",
       "    <tr>\n",
       "      <th>0</th>\n",
       "      <td>0.758330</td>\n",
       "      <td>0.699705</td>\n",
       "    </tr>\n",
       "    <tr>\n",
       "      <th>1</th>\n",
       "      <td>0.746663</td>\n",
       "      <td>0.681369</td>\n",
       "    </tr>\n",
       "    <tr>\n",
       "      <th>2</th>\n",
       "      <td>0.732604</td>\n",
       "      <td>0.660680</td>\n",
       "    </tr>\n",
       "    <tr>\n",
       "      <th>3</th>\n",
       "      <td>0.716358</td>\n",
       "      <td>0.637865</td>\n",
       "    </tr>\n",
       "    <tr>\n",
       "      <th>4</th>\n",
       "      <td>0.698098</td>\n",
       "      <td>0.613170</td>\n",
       "    </tr>\n",
       "  </tbody>\n",
       "</table>\n",
       "</div>"
      ],
      "text/plain": [
       "        405       465\n",
       "0  0.758330  0.699705\n",
       "1  0.746663  0.681369\n",
       "2  0.732604  0.660680\n",
       "3  0.716358  0.637865\n",
       "4  0.698098  0.613170"
      ]
     },
     "execution_count": 11,
     "metadata": {},
     "output_type": "execute_result"
    }
   ],
   "source": [
    "fiberData = pd.DataFrame()\n",
    "fiberData['405'] = data.streams._405N.data\n",
    "fiberData['465'] = data.streams._465N.data\n",
    "fiberData.head()"
   ]
  },
  {
   "cell_type": "code",
   "execution_count": 32,
   "metadata": {},
   "outputs": [
    {
     "name": "stdout",
     "output_type": "stream",
     "text": [
      "numeber of samples:  622464\n"
     ]
    }
   ],
   "source": [
    "num_samples = len(data.streams._405N.data)\n",
    "print('numeber of samples: ', num_samples)\n",
    "static_time = np.linspace(1, num_samples, num_samples) / data.streams._405N.fs\n",
    "dynamic_time = np.linspace(1, num_samples, num_samples) / data.streams._465N.fs"
   ]
  },
  {
   "cell_type": "code",
   "execution_count": 36,
   "metadata": {},
   "outputs": [
    {
     "data": {
      "text/plain": [
       "True"
      ]
     },
     "execution_count": 36,
     "metadata": {},
     "output_type": "execute_result"
    }
   ],
   "source": [
    "data.streams._405N.fs == data.streams._465N.fs"
   ]
  },
  {
   "cell_type": "code",
   "execution_count": 42,
   "metadata": {},
   "outputs": [
    {
     "data": {
      "image/png": "[encoded data removed]",
      "text/plain": [
       "<Figure size 720x432 with 1 Axes>"
      ]
     },
     "metadata": {
      "needs_background": "light"
     },
     "output_type": "display_data"
    }
   ],
   "source": [
    "length = 100 #length of the data in sec you want to print\n",
    "t = int(length * data.streams._405N.fs) # int rounds it to the nearest integer\n",
    "\n",
    "# declare the figure size\n",
    "fig1 = plt.figure(figsize=(10, 6))\n",
    "\n",
    "# plot the line using slices\n",
    "plt.plot(static_time[150:t], data.streams._405N.data[150:t],\n",
    "         color='cornflowerblue')\n",
    "plt.plot(dynamic_time[150:t], data.streams._465N.data[150:t],\n",
    "         color='lightgreen')\n",
    "\n",
    "# Some matplotlib stuff\n",
    "# add an annotation mark to the figure\n",
    "# plt.annotate('Point Here',\n",
    "#              xy=(0.8,0.002),\n",
    "#              xytext=(.88,.003),\n",
    "#              arrowprops=dict(arrowstyle='->', color='k'))\n",
    "\n",
    "# create title, axis labels, and legend\n",
    "plt.title('405 & 465 Data', fontsize=16)\n",
    "plt.xlabel('Seconds', fontsize=14)\n",
    "plt.ylabel('AU', fontsize=14)\n",
    "# plt.legend(('Channel {}'.format(channel),),\n",
    "#            loc='lower right',\n",
    "#            bbox_to_anchor=(1.0,1.01))\n",
    "plt.autoscale(tight=True)\n",
    "plt.show()"
   ]
  },
  {
   "cell_type": "code",
   "execution_count": 10,
   "metadata": {},
   "outputs": [
    {
     "name": "stdout",
     "output_type": "stream",
     "text": [
      "read from t=0s to t=61.23s\n",
      "epocs\t[struct]\n",
      "snips\t[struct]\n",
      "streams\t[struct]\n",
      "scalars\t[struct]\n",
      "info\t[struct]\n",
      "time_ranges:\tarray([[ 0.],\n",
      "       [inf]])\n"
     ]
    }
   ],
   "source": [
    "SAMPLE_BLOCK_PATH = '/home/gergely/code/fiberPhotometry_YP/data/Algernon-180308-130351'\n",
    "sample_data = read_block(SAMPLE_BLOCK_PATH)\n",
    "print(sample_data)"
   ]
  },
  {
   "cell_type": "code",
   "execution_count": 12,
   "metadata": {},
   "outputs": [
    {
     "data": {
      "text/plain": [
       "dict_keys(['LFP1', 'pNe1', 'Wav1'])"
      ]
     },
     "execution_count": 12,
     "metadata": {},
     "output_type": "execute_result"
    }
   ],
   "source": [
    "sample_data.streams.keys()"
   ]
  },
  {
   "cell_type": "code",
   "execution_count": null,
   "metadata": {},
   "outputs": [],
   "source": []
  }
 ],
 "metadata": {
  "kernelspec": {
   "display_name": "photometry",
   "language": "python",
   "name": "photometry"
  },
  "language_info": {
   "codemirror_mode": {
    "name": "ipython",
    "version": 3
   },
   "file_extension": ".py",
   "mimetype": "text/x-python",
   "name": "python",
   "nbconvert_exporter": "python",
   "pygments_lexer": "ipython3",
   "version": "3.6.9"
  }
 },
 "nbformat": 4,
 "nbformat_minor": 4
}
