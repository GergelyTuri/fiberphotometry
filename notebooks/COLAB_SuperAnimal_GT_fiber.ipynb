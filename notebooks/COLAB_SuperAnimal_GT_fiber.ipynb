{
  "cells": [
    {
      "cell_type": "markdown",
      "metadata": {
        "id": "view-in-github",
        "colab_type": "text"
      },
      "source": [
        "<a href=\"https://colab.research.google.com/github/GergelyTuri/fiberphotometry/blob/main/notebooks/COLAB_SuperAnimal_GT_fiber.ipynb\" target=\"_parent\"><img src=\"https://colab.research.google.com/assets/colab-badge.svg\" alt=\"Open In Colab\"/></a>"
      ]
    },
    {
      "cell_type": "markdown",
      "metadata": {
        "id": "ZnxpWzhiadXz"
      },
      "source": [
        "<a target=\"_blank\" href=\"https://colab.research.google.com/github/DeepLabCut/DeepLabCut/blob/main/examples/COLAB/COLAB_DEMO_SuperAnimal.ipynb\">\n",
        "  <img src=\"https://colab.research.google.com/assets/colab-badge.svg\" alt=\"Open In Colab\"/>\n",
        "</a>"
      ]
    },
    {
      "cell_type": "markdown",
      "source": [
        "# Demo notebook/ for using DLC's super animal package.\n",
        "The demo is based on [this](https://deeplabcut.github.io/DeepLabCut/docs/ModelZoo.html) and [this](https://colab.research.google.com/github/DeepLabCut/DeepLabCut/blob/master/examples/COLAB/COLAB_DLC_ModelZoo.ipynb#scrollTo=Vlc0wZgB7R5e)\n",
        "- GT 7/11/2023/\n",
        "- optimized for fiber photometry 8/9/2023\n",
        "- 9/25/2023 updated as per the latest documentation."
      ],
      "metadata": {
        "id": "yvE1qG7d4Loa"
      }
    },
    {
      "cell_type": "markdown",
      "metadata": {
        "id": "23v-XAUNQIPY"
      },
      "source": [
        "# First, go to \"Runtime\" ->\"change runtime type\"->select \"Python3\", and then select \"GPU\""
      ]
    },
    {
      "cell_type": "code",
      "execution_count": null,
      "metadata": {
        "id": "03ylSyQ4O9Ee"
      },
      "outputs": [],
      "source": [
        "!pip install deeplabcut[tf,modelzoo] # use no space between the requiremnts"
      ]
    },
    {
      "cell_type": "markdown",
      "metadata": {
        "id": "TguLMTJpQx1_"
      },
      "source": [
        "## PLEASE, click \"restart runtime\" from the output above before proceeding!"
      ]
    },
    {
      "cell_type": "code",
      "execution_count": 1,
      "metadata": {
        "id": "4BejjXKFO2Zg",
        "colab": {
          "base_uri": "https://localhost:8080/"
        },
        "outputId": "f064f9d1-9be1-4f67-b523-158777ca5089"
      },
      "outputs": [
        {
          "output_type": "stream",
          "name": "stdout",
          "text": [
            "Loading DLC 2.3.6...\n",
            "DLC loaded in light mode; you cannot use any GUI (labeling, relabeling and standalone GUI)\n"
          ]
        }
      ],
      "source": [
        "import os\n",
        "import deeplabcut"
      ]
    },
    {
      "cell_type": "code",
      "source": [
        "from google.colab import drive\n",
        "drive.mount('/gdrive')"
      ],
      "metadata": {
        "colab": {
          "base_uri": "https://localhost:8080/"
        },
        "id": "hki3NGkLe6fT",
        "outputId": "e314294a-d4a1-4c30-8948-5d4c655ce44e"
      },
      "execution_count": 2,
      "outputs": [
        {
          "output_type": "stream",
          "name": "stdout",
          "text": [
            "Mounted at /gdrive\n"
          ]
        }
      ]
    },
    {
      "cell_type": "markdown",
      "source": [
        "### Constructing input-output directories"
      ],
      "metadata": {
        "id": "CZpWAtNIMWQ_"
      }
    },
    {
      "cell_type": "code",
      "source": [
        "# modify this as per the location of your videos\n",
        "video_path = '/gdrive/Shareddrives/Turi_lab/Data/fiber_photometry/test_recordings/1aflox22a_1-230819-160741/EEGFP1c-230804-141830_1aflox22a_1-230819-160741_Cam1.avi'"
      ],
      "metadata": {
        "id": "UehxhDrQL6nl"
      },
      "execution_count": 31,
      "outputs": []
    },
    {
      "cell_type": "markdown",
      "source": [
        "### `working_directory` is the directory where the analyzed output will be saved."
      ],
      "metadata": {
        "id": "WvLUlXz1VlOd"
      }
    },
    {
      "cell_type": "code",
      "source": [
        "project_name = 'fiber_test_recordings'\n",
        "your_name = 'gergo'\n",
        "model2use = \"superanimal_topviewmouse\"\n",
        "videotype = os.path.splitext(video_path)[-1].lstrip('.') #or MOV, or avi, whatever you uploaded!\n",
        "pcutoff = 0.3\n",
        "working_directory = os.path.join(os.path.split(video_path)[0], 'dlc')"
      ],
      "metadata": {
        "id": "cU_pCisnspwA"
      },
      "execution_count": 32,
      "outputs": []
    },
    {
      "cell_type": "markdown",
      "source": [
        "## Running tracking"
      ],
      "metadata": {
        "id": "1dvBJsrLc1sa"
      }
    },
    {
      "cell_type": "code",
      "source": [
        "config_path, train_config_path = deeplabcut.create_pretrained_project(\n",
        "    project_name,\n",
        "    your_name,\n",
        "    [video_path],\n",
        "    videotype=videotype,\n",
        "    model=model2use,\n",
        "    analyzevideo=True,\n",
        "    createlabeledvideo=True,\n",
        "    copy_videos=True, #must leave copy_videos=True\n",
        "    working_directory=working_directory\n",
        ")"
      ],
      "metadata": {
        "id": "3VTVAPXPNpOf"
      },
      "execution_count": null,
      "outputs": []
    },
    {
      "cell_type": "markdown",
      "source": [
        "## Postporcessing edits\n",
        "not sure if they have any effect"
      ],
      "metadata": {
        "id": "9U2TN4jwc6s0"
      }
    },
    {
      "cell_type": "code",
      "source": [
        "# Updating the plotting within the config.yaml file (without opening it ;):\n",
        "edits = {\n",
        "    'dotsize': 3,  # size of the dots!\n",
        "    'colormap': 'spring',  # any matplotlib colormap!\n",
        "    'pcutoff': 0.3,  # the higher the more conservative the plotting!\n",
        "}\n",
        "deeplabcut.auxiliaryfunctions.edit_config(config_path, edits)"
      ],
      "metadata": {
        "id": "8-4AagyROY6V"
      },
      "execution_count": null,
      "outputs": []
    },
    {
      "cell_type": "code",
      "source": [
        "# re-create the labeled video (first you will need to delete in the folder to the LEFT!):\n",
        "project_path = os.path.dirname(config_path)\n",
        "full_video_path = os.path.join(\n",
        "    project_path,\n",
        "    'videos',\n",
        "    os.path.basename(video_path),\n",
        ")\n",
        "\n",
        "#filter predictions (should already be done above ;):\n",
        "deeplabcut.filterpredictions(config_path, [full_video_path], videotype=videotype)\n",
        "\n",
        "#re-create the video with your edits!\n",
        "deeplabcut.create_labeled_video(config_path, [full_video_path], videotype=videotype, filtered=True)"
      ],
      "metadata": {
        "id": "msXqlwlUOb3Z"
      },
      "execution_count": null,
      "outputs": []
    },
    {
      "cell_type": "markdown",
      "source": [
        "# 👇This will check whether the path to the dir is correct!"
      ],
      "metadata": {
        "id": "sJ94eSTOYKgO"
      }
    },
    {
      "cell_type": "code",
      "source": [
        "# the DLC input folder with videos\n",
        "\n",
        "# try:\n",
        "#   if os.path.isdir(os.path.join(base_dir, context, context +'_' + task, condition)):\n",
        "#     video_path = os.path.join(base_dir, context, context +'_' + task, condition)\n",
        "#     print('Directory exists')\n",
        "#   else:\n",
        "#     print('Directory does not exist')\n",
        "# except:\n",
        "#   print(\"An error occurred while checking the directory:\", str(e))"
      ],
      "metadata": {
        "colab": {
          "base_uri": "https://localhost:8080/"
        },
        "id": "ihRsPRAKTGCh",
        "outputId": "c414aec1-2cc2-42f5-96cb-b4d8e5a7cacd"
      },
      "execution_count": null,
      "outputs": [
        {
          "output_type": "stream",
          "name": "stdout",
          "text": [
            "Directory does not exist\n"
          ]
        }
      ]
    },
    {
      "cell_type": "markdown",
      "source": [
        "Constructing the output directories\n",
        "Again, you need to tweak this for your project."
      ],
      "metadata": {
        "id": "FQ8IqieoY2CF"
      }
    },
    {
      "cell_type": "code",
      "source": [
        "# if not os.path.exists(os.path.join(base_dir, 'moseq_analysis', context + '_' + task, condition)):\n",
        "#   print('No working_directory. ... Creating working_directory')\n",
        "#   os.makedirs(os.path.join(base_dir, 'moseq_analysis', context + '_' + task, condition))\n",
        "#   working_directory = os.path.join(base_dir, 'moseq_analysis', context + '_' + task, condition)\n",
        "# else:\n",
        "#   print('working_directory exist')\n",
        "#   # working_directory = os.path.join(base_dir, 'moseq_analysis', context + '_' + task, condition)\n",
        "# working_directory = '/gdrive/Shareddrives/Turi_lab/Data/PTSD_project/ELS2_PTSD/shockboxes/SEFLb/males/males_avis/males_avis_test_output'"
      ],
      "metadata": {
        "colab": {
          "base_uri": "https://localhost:8080/"
        },
        "id": "lV_JOlFgOKq3",
        "outputId": "4364e4ec-95f9-459a-9b44-d309310f432b"
      },
      "execution_count": null,
      "outputs": [
        {
          "output_type": "stream",
          "name": "stdout",
          "text": [
            "working_directory exist\n"
          ]
        }
      ]
    }
  ],
  "metadata": {
    "accelerator": "GPU",
    "colab": {
      "provenance": [],
      "gpuType": "T4",
      "include_colab_link": true
    },
    "kernelspec": {
      "display_name": "Python 3",
      "name": "python3"
    },
    "language_info": {
      "codemirror_mode": {
        "name": "ipython",
        "version": 3
      },
      "file_extension": ".py",
      "mimetype": "text/x-python",
      "name": "python",
      "nbconvert_exporter": "python",
      "pygments_lexer": "ipython3",
      "version": "3.9.13 | packaged by conda-forge | (main, May 27 2022, 17:01:00) \n[Clang 13.0.1 ]"
    },
    "vscode": {
      "interpreter": {
        "hash": "ef00193d8f29a47f592f520086c931b5dd2a83e8a593fa0efe5afff3c413a788"
      }
    }
  },
  "nbformat": 4,
  "nbformat_minor": 0
}